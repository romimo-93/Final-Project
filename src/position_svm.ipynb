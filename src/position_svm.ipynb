{
 "metadata": {
  "language_info": {
   "codemirror_mode": {
    "name": "ipython",
    "version": 3
   },
   "file_extension": ".py",
   "mimetype": "text/x-python",
   "name": "python",
   "nbconvert_exporter": "python",
   "pygments_lexer": "ipython3",
   "version": "3.8.3"
  },
  "orig_nbformat": 2,
  "kernelspec": {
   "name": "python383jvsc74a57bd080c97f02d7c11e83bc363ff72acb071775dee1823dc2665fdbc0eaa45fc52472",
   "display_name": "Python 3.8.3 64-bit ('base': conda)"
  }
 },
 "nbformat": 4,
 "nbformat_minor": 2,
 "cells": [
  {
   "source": [
    "## Dependencies"
   ],
   "cell_type": "markdown",
   "metadata": {}
  },
  {
   "cell_type": "code",
   "execution_count": 1,
   "metadata": {},
   "outputs": [],
   "source": [
    "import pandas as pd\n",
    "import requests\n",
    "from sklearn.model_selection import train_test_split\n",
    "from sklearn.preprocessing import StandardScaler\n",
    "from sklearn.preprocessing import LabelEncoder\n",
    "from tensorflow.keras.utils import to_categorical\n",
    "import joblib"
   ]
  },
  {
   "source": [
    "## Import and Prep Data"
   ],
   "cell_type": "markdown",
   "metadata": {}
  },
  {
   "cell_type": "code",
   "execution_count": 2,
   "metadata": {},
   "outputs": [],
   "source": [
    "# Player data from URL\n",
    "results = requests.get(\"http://nhl-app.eba-tmaqptju.us-west-2.elasticbeanstalk.com/api/avgplayerstats/all\").json()"
   ]
  },
  {
   "cell_type": "code",
   "execution_count": 3,
   "metadata": {
    "tags": []
   },
   "outputs": [],
   "source": [
    "# Create Dataframe of player data\n",
    "df = pd.DataFrame()\n",
    "pos_list = []\n",
    "toi_list = []\n",
    "g_list = []\n",
    "a_list = []\n",
    "s_list = []\n",
    "h_list = []\n",
    "ppg_list = []\n",
    "ppa_list = []\n",
    "pim_list = []\n",
    "fow_list = []\n",
    "fot_list = []\n",
    "ta_list = []\n",
    "ga_list = []\n",
    "shg_list = []\n",
    "sha_list = []\n",
    "bs_list = []\n",
    "etoi_list = []\n",
    "shtoi_list = []\n",
    "pptoi_list = []\n",
    "for player in results:\n",
    "    pos_list.append(player['Position'][-1])\n",
    "    toi_list.append(player['timeOnIce'])\n",
    "    a_list.append(player['assists'])\n",
    "    g_list.append(player['goals'])\n",
    "    s_list.append(player['shots'])\n",
    "    h_list.append(player['hits'])\n",
    "    ppg_list.append(player['powerPlayGoals'])\n",
    "    ppa_list.append(player['powerPlayAssists'])\n",
    "    pim_list.append(player['penaltyMinutes'])\n",
    "    fow_list.append(player['faceOffWins'])\n",
    "    fot_list.append(player['faceoffTaken'])\n",
    "    ta_list.append(player['takeaways'])\n",
    "    ga_list.append(player['Expr1'])\n",
    "    shg_list.append(player['shortHandedGoals'])\n",
    "    sha_list.append(player['shortHandedAssists'])\n",
    "    bs_list.append(player['blocked'])\n",
    "    etoi_list.append(player['evenTimeOnIce'])\n",
    "    shtoi_list.append(player['shortHandedTimeOnIce'])\n",
    "    pptoi_list.append(player['powerPlayTimeOnIce'])\n",
    "df[\"pos\"] = pos_list\n",
    "df[\"toi\"] = toi_list\n",
    "df[\"g\"] = g_list\n",
    "df[\"a\"] = g_list\n",
    "df[\"s\"] = s_list\n",
    "df[\"h\"] = h_list\n",
    "df[\"ppg\"] = ppg_list\n",
    "df[\"ppa\"] = ppa_list\n",
    "df[\"pim\"] = pim_list\n",
    "df[\"fow\"] = fow_list\n",
    "df[\"fot\"] = fot_list\n",
    "df[\"ta\"] = ta_list\n",
    "df[\"ga\"] = ga_list\n",
    "df[\"shg\"] = shg_list\n",
    "df[\"sha\"] = sha_list\n",
    "df[\"bs\"] = bs_list\n",
    "df[\"etoi\"] = etoi_list\n",
    "df[\"shtoi\"] = shtoi_list\n",
    "df[\"pptoi\"] = pptoi_list"
   ]
  },
  {
   "cell_type": "code",
   "execution_count": 4,
   "metadata": {},
   "outputs": [
    {
     "output_type": "execute_result",
     "data": {
      "text/plain": [
       "     pos          toi         g         a         s         h       ppg  \\\n",
       "0      W   930.412698  0.301587  0.301587  2.253968  0.908730  0.083333   \n",
       "1      W   475.555556  0.000000  0.000000  0.555556  1.277778  0.000000   \n",
       "2      W   473.000000  0.000000  0.000000  0.000000  0.000000  0.000000   \n",
       "3      D  1019.128079  0.034483  0.034483  0.852217  1.842365  0.000000   \n",
       "4      W   421.500000  0.000000  0.000000  0.000000  0.000000  0.000000   \n",
       "...   ..          ...       ...       ...       ...       ...       ...   \n",
       "3348   D  1078.284483  0.094828  0.094828  1.172414  0.000000  0.025862   \n",
       "3349   W   666.337209  0.127907  0.127907  1.418605  0.000000  0.000000   \n",
       "3350   D   690.607143  0.000000  0.000000  0.964286  0.750000  0.000000   \n",
       "3351   W   935.103093  0.194158  0.194158  1.718213  0.000000  0.063574   \n",
       "3352   C   680.024242  0.103030  0.103030  1.109091  0.363636  0.012121   \n",
       "\n",
       "           ppa       pim       fow       fot        ta        ga       shg  \\\n",
       "0     0.071429  0.281746  0.138889  0.472222  0.488095  0.301587  0.000000   \n",
       "1     0.000000  3.611111  0.000000  0.000000  0.111111  0.000000  0.000000   \n",
       "2     0.000000  0.000000  0.000000  0.000000  0.000000  0.000000  0.000000   \n",
       "3     0.000000  0.527094  0.000000  0.004926  0.231527  0.034483  0.000000   \n",
       "4     0.000000  1.000000  0.000000  0.500000  0.000000  0.000000  0.000000   \n",
       "...        ...       ...       ...       ...       ...       ...       ...   \n",
       "3348  0.077586  0.603448  0.000000  0.000000  0.000000  0.094828  0.000000   \n",
       "3349  0.023256  0.488372  0.081395  0.337209  0.000000  0.127907  0.000000   \n",
       "3350  0.000000  0.285714  0.000000  0.000000  0.178571  0.000000  0.000000   \n",
       "3351  0.061856  0.527491  0.041237  0.118557  0.000000  0.194158  0.006873   \n",
       "3352  0.030303  0.206061  2.987879  6.551515  0.284848  0.103030  0.000000   \n",
       "\n",
       "           sha        bs        etoi       shtoi       pptoi  \n",
       "0     0.000000  0.361111  789.420635    5.825397  135.166667  \n",
       "1     0.000000  0.111111  471.777778    0.333333    3.444444  \n",
       "2     0.000000  0.000000  390.000000    0.000000   83.000000  \n",
       "3     0.014778  1.507389  911.556650  104.167488    3.403941  \n",
       "4     0.000000  0.000000  383.000000   14.000000   24.500000  \n",
       "...        ...       ...         ...         ...         ...  \n",
       "3348  0.017241  0.000000  872.448276   84.965517  120.870690  \n",
       "3349  0.000000  0.000000  624.209302    3.418605   38.709302  \n",
       "3350  0.000000  0.535714  670.428571   17.857143    2.321429  \n",
       "3351  0.000000  0.000000  736.018900   38.810997  160.273196  \n",
       "3352  0.000000  0.212121  606.533333    2.860606   70.630303  \n",
       "\n",
       "[3353 rows x 19 columns]"
      ],
      "text/html": "<div>\n<style scoped>\n    .dataframe tbody tr th:only-of-type {\n        vertical-align: middle;\n    }\n\n    .dataframe tbody tr th {\n        vertical-align: top;\n    }\n\n    .dataframe thead th {\n        text-align: right;\n    }\n</style>\n<table border=\"1\" class=\"dataframe\">\n  <thead>\n    <tr style=\"text-align: right;\">\n      <th></th>\n      <th>pos</th>\n      <th>toi</th>\n      <th>g</th>\n      <th>a</th>\n      <th>s</th>\n      <th>h</th>\n      <th>ppg</th>\n      <th>ppa</th>\n      <th>pim</th>\n      <th>fow</th>\n      <th>fot</th>\n      <th>ta</th>\n      <th>ga</th>\n      <th>shg</th>\n      <th>sha</th>\n      <th>bs</th>\n      <th>etoi</th>\n      <th>shtoi</th>\n      <th>pptoi</th>\n    </tr>\n  </thead>\n  <tbody>\n    <tr>\n      <th>0</th>\n      <td>W</td>\n      <td>930.412698</td>\n      <td>0.301587</td>\n      <td>0.301587</td>\n      <td>2.253968</td>\n      <td>0.908730</td>\n      <td>0.083333</td>\n      <td>0.071429</td>\n      <td>0.281746</td>\n      <td>0.138889</td>\n      <td>0.472222</td>\n      <td>0.488095</td>\n      <td>0.301587</td>\n      <td>0.000000</td>\n      <td>0.000000</td>\n      <td>0.361111</td>\n      <td>789.420635</td>\n      <td>5.825397</td>\n      <td>135.166667</td>\n    </tr>\n    <tr>\n      <th>1</th>\n      <td>W</td>\n      <td>475.555556</td>\n      <td>0.000000</td>\n      <td>0.000000</td>\n      <td>0.555556</td>\n      <td>1.277778</td>\n      <td>0.000000</td>\n      <td>0.000000</td>\n      <td>3.611111</td>\n      <td>0.000000</td>\n      <td>0.000000</td>\n      <td>0.111111</td>\n      <td>0.000000</td>\n      <td>0.000000</td>\n      <td>0.000000</td>\n      <td>0.111111</td>\n      <td>471.777778</td>\n      <td>0.333333</td>\n      <td>3.444444</td>\n    </tr>\n    <tr>\n      <th>2</th>\n      <td>W</td>\n      <td>473.000000</td>\n      <td>0.000000</td>\n      <td>0.000000</td>\n      <td>0.000000</td>\n      <td>0.000000</td>\n      <td>0.000000</td>\n      <td>0.000000</td>\n      <td>0.000000</td>\n      <td>0.000000</td>\n      <td>0.000000</td>\n      <td>0.000000</td>\n      <td>0.000000</td>\n      <td>0.000000</td>\n      <td>0.000000</td>\n      <td>0.000000</td>\n      <td>390.000000</td>\n      <td>0.000000</td>\n      <td>83.000000</td>\n    </tr>\n    <tr>\n      <th>3</th>\n      <td>D</td>\n      <td>1019.128079</td>\n      <td>0.034483</td>\n      <td>0.034483</td>\n      <td>0.852217</td>\n      <td>1.842365</td>\n      <td>0.000000</td>\n      <td>0.000000</td>\n      <td>0.527094</td>\n      <td>0.000000</td>\n      <td>0.004926</td>\n      <td>0.231527</td>\n      <td>0.034483</td>\n      <td>0.000000</td>\n      <td>0.014778</td>\n      <td>1.507389</td>\n      <td>911.556650</td>\n      <td>104.167488</td>\n      <td>3.403941</td>\n    </tr>\n    <tr>\n      <th>4</th>\n      <td>W</td>\n      <td>421.500000</td>\n      <td>0.000000</td>\n      <td>0.000000</td>\n      <td>0.000000</td>\n      <td>0.000000</td>\n      <td>0.000000</td>\n      <td>0.000000</td>\n      <td>1.000000</td>\n      <td>0.000000</td>\n      <td>0.500000</td>\n      <td>0.000000</td>\n      <td>0.000000</td>\n      <td>0.000000</td>\n      <td>0.000000</td>\n      <td>0.000000</td>\n      <td>383.000000</td>\n      <td>14.000000</td>\n      <td>24.500000</td>\n    </tr>\n    <tr>\n      <th>...</th>\n      <td>...</td>\n      <td>...</td>\n      <td>...</td>\n      <td>...</td>\n      <td>...</td>\n      <td>...</td>\n      <td>...</td>\n      <td>...</td>\n      <td>...</td>\n      <td>...</td>\n      <td>...</td>\n      <td>...</td>\n      <td>...</td>\n      <td>...</td>\n      <td>...</td>\n      <td>...</td>\n      <td>...</td>\n      <td>...</td>\n      <td>...</td>\n    </tr>\n    <tr>\n      <th>3348</th>\n      <td>D</td>\n      <td>1078.284483</td>\n      <td>0.094828</td>\n      <td>0.094828</td>\n      <td>1.172414</td>\n      <td>0.000000</td>\n      <td>0.025862</td>\n      <td>0.077586</td>\n      <td>0.603448</td>\n      <td>0.000000</td>\n      <td>0.000000</td>\n      <td>0.000000</td>\n      <td>0.094828</td>\n      <td>0.000000</td>\n      <td>0.017241</td>\n      <td>0.000000</td>\n      <td>872.448276</td>\n      <td>84.965517</td>\n      <td>120.870690</td>\n    </tr>\n    <tr>\n      <th>3349</th>\n      <td>W</td>\n      <td>666.337209</td>\n      <td>0.127907</td>\n      <td>0.127907</td>\n      <td>1.418605</td>\n      <td>0.000000</td>\n      <td>0.000000</td>\n      <td>0.023256</td>\n      <td>0.488372</td>\n      <td>0.081395</td>\n      <td>0.337209</td>\n      <td>0.000000</td>\n      <td>0.127907</td>\n      <td>0.000000</td>\n      <td>0.000000</td>\n      <td>0.000000</td>\n      <td>624.209302</td>\n      <td>3.418605</td>\n      <td>38.709302</td>\n    </tr>\n    <tr>\n      <th>3350</th>\n      <td>D</td>\n      <td>690.607143</td>\n      <td>0.000000</td>\n      <td>0.000000</td>\n      <td>0.964286</td>\n      <td>0.750000</td>\n      <td>0.000000</td>\n      <td>0.000000</td>\n      <td>0.285714</td>\n      <td>0.000000</td>\n      <td>0.000000</td>\n      <td>0.178571</td>\n      <td>0.000000</td>\n      <td>0.000000</td>\n      <td>0.000000</td>\n      <td>0.535714</td>\n      <td>670.428571</td>\n      <td>17.857143</td>\n      <td>2.321429</td>\n    </tr>\n    <tr>\n      <th>3351</th>\n      <td>W</td>\n      <td>935.103093</td>\n      <td>0.194158</td>\n      <td>0.194158</td>\n      <td>1.718213</td>\n      <td>0.000000</td>\n      <td>0.063574</td>\n      <td>0.061856</td>\n      <td>0.527491</td>\n      <td>0.041237</td>\n      <td>0.118557</td>\n      <td>0.000000</td>\n      <td>0.194158</td>\n      <td>0.006873</td>\n      <td>0.000000</td>\n      <td>0.000000</td>\n      <td>736.018900</td>\n      <td>38.810997</td>\n      <td>160.273196</td>\n    </tr>\n    <tr>\n      <th>3352</th>\n      <td>C</td>\n      <td>680.024242</td>\n      <td>0.103030</td>\n      <td>0.103030</td>\n      <td>1.109091</td>\n      <td>0.363636</td>\n      <td>0.012121</td>\n      <td>0.030303</td>\n      <td>0.206061</td>\n      <td>2.987879</td>\n      <td>6.551515</td>\n      <td>0.284848</td>\n      <td>0.103030</td>\n      <td>0.000000</td>\n      <td>0.000000</td>\n      <td>0.212121</td>\n      <td>606.533333</td>\n      <td>2.860606</td>\n      <td>70.630303</td>\n    </tr>\n  </tbody>\n</table>\n<p>3353 rows × 19 columns</p>\n</div>"
     },
     "metadata": {},
     "execution_count": 4
    }
   ],
   "source": [
    "df"
   ]
  },
  {
   "cell_type": "code",
   "execution_count": 5,
   "metadata": {},
   "outputs": [],
   "source": [
    "X_df = df.drop(columns=[\"pos\"])"
   ]
  },
  {
   "cell_type": "code",
   "execution_count": 6,
   "metadata": {},
   "outputs": [],
   "source": [
    "# Establish X, y\n",
    "X = X_df.values\n",
    "y = df[\"pos\"]"
   ]
  },
  {
   "source": [
    "## Create Training and Testing sets"
   ],
   "cell_type": "markdown",
   "metadata": {}
  },
  {
   "cell_type": "code",
   "execution_count": 7,
   "metadata": {},
   "outputs": [],
   "source": [
    "# Convert Player Positions (C, W, D) to numerical values\n",
    "label_encoder = LabelEncoder()\n",
    "label_encoder.fit(y)\n",
    "encoded_y = label_encoder.transform(y)"
   ]
  },
  {
   "cell_type": "code",
   "execution_count": 8,
   "metadata": {
    "tags": []
   },
   "outputs": [],
   "source": [
    "## CLASSES\n",
    "# 0 - C (Center)\n",
    "# 1 - D (Defense)\n",
    "# 2 - W (Winger)"
   ]
  },
  {
   "cell_type": "code",
   "execution_count": 9,
   "metadata": {},
   "outputs": [],
   "source": [
    "# Create train and test splits\n",
    "X_train, X_test, y_train, y_test = train_test_split(X, encoded_y, random_state=42)"
   ]
  },
  {
   "cell_type": "code",
   "execution_count": 10,
   "metadata": {},
   "outputs": [],
   "source": [
    "from sklearn.preprocessing import StandardScaler\n",
    "\n",
    "# Standardize the columns\n",
    "X_scaler = StandardScaler().fit(X_train)\n",
    "X_train_scaled = X_scaler.transform(X_train)\n",
    "X_test_scaled = X_scaler.transform(X_test)"
   ]
  },
  {
   "cell_type": "code",
   "execution_count": 11,
   "metadata": {},
   "outputs": [
    {
     "output_type": "execute_result",
     "data": {
      "text/plain": [
       "(2514, 18)"
      ]
     },
     "metadata": {},
     "execution_count": 11
    }
   ],
   "source": [
    "X_train.shape"
   ]
  },
  {
   "cell_type": "code",
   "execution_count": 24,
   "metadata": {},
   "outputs": [],
   "source": [
    "# Support vector machine linear classifier\n",
    "from sklearn.svm import SVC \n",
    "model = SVC(kernel='linear',probability=True)"
   ]
  },
  {
   "cell_type": "code",
   "execution_count": 25,
   "metadata": {},
   "outputs": [],
   "source": [
    "# Create the GridSearch estimator along with a parameter object containing the values to adjust\n",
    "from sklearn.model_selection import GridSearchCV\n",
    "param_grid = {'C': [3, 4, 5],\n",
    "              'gamma': [0.000000001, 0.00000001, 0.0000001]}\n",
    "grid = GridSearchCV(model, param_grid, verbose=3)"
   ]
  },
  {
   "cell_type": "code",
   "execution_count": 26,
   "metadata": {
    "tags": []
   },
   "outputs": [
    {
     "output_type": "stream",
     "name": "stdout",
     "text": [
      "Fitting 5 folds for each of 9 candidates, totalling 45 fits\n",
      "[CV] C=3, gamma=1e-09 ................................................\n",
      "[Parallel(n_jobs=1)]: Using backend SequentialBackend with 1 concurrent workers.\n",
      "[CV] .................... C=3, gamma=1e-09, score=0.845, total=   0.6s\n",
      "[CV] C=3, gamma=1e-09 ................................................\n",
      "[Parallel(n_jobs=1)]: Done   1 out of   1 | elapsed:    0.5s remaining:    0.0s\n",
      "[CV] .................... C=3, gamma=1e-09, score=0.861, total=   0.6s\n",
      "[CV] C=3, gamma=1e-09 ................................................\n",
      "[Parallel(n_jobs=1)]: Done   2 out of   2 | elapsed:    1.1s remaining:    0.0s\n",
      "[CV] .................... C=3, gamma=1e-09, score=0.839, total=   0.6s\n",
      "[CV] C=3, gamma=1e-09 ................................................\n",
      "[CV] .................... C=3, gamma=1e-09, score=0.861, total=   0.6s\n",
      "[CV] C=3, gamma=1e-09 ................................................\n",
      "[CV] .................... C=3, gamma=1e-09, score=0.869, total=   0.7s\n",
      "[CV] C=3, gamma=1e-08 ................................................\n",
      "[CV] .................... C=3, gamma=1e-08, score=0.845, total=   0.6s\n",
      "[CV] C=3, gamma=1e-08 ................................................\n",
      "[CV] .................... C=3, gamma=1e-08, score=0.861, total=   0.6s\n",
      "[CV] C=3, gamma=1e-08 ................................................\n",
      "[CV] .................... C=3, gamma=1e-08, score=0.839, total=   0.6s\n",
      "[CV] C=3, gamma=1e-08 ................................................\n",
      "[CV] .................... C=3, gamma=1e-08, score=0.861, total=   0.6s\n",
      "[CV] C=3, gamma=1e-08 ................................................\n",
      "[CV] .................... C=3, gamma=1e-08, score=0.869, total=   0.7s\n",
      "[CV] C=3, gamma=1e-07 ................................................\n",
      "[CV] .................... C=3, gamma=1e-07, score=0.845, total=   0.6s\n",
      "[CV] C=3, gamma=1e-07 ................................................\n",
      "[CV] .................... C=3, gamma=1e-07, score=0.861, total=   0.6s\n",
      "[CV] C=3, gamma=1e-07 ................................................\n",
      "[CV] .................... C=3, gamma=1e-07, score=0.839, total=   0.6s\n",
      "[CV] C=3, gamma=1e-07 ................................................\n",
      "[CV] .................... C=3, gamma=1e-07, score=0.861, total=   0.7s\n",
      "[CV] C=3, gamma=1e-07 ................................................\n",
      "[CV] .................... C=3, gamma=1e-07, score=0.869, total=   0.7s\n",
      "[CV] C=4, gamma=1e-09 ................................................\n",
      "[CV] .................... C=4, gamma=1e-09, score=0.847, total=   0.8s\n",
      "[CV] C=4, gamma=1e-09 ................................................\n",
      "[CV] .................... C=4, gamma=1e-09, score=0.861, total=   0.8s\n",
      "[CV] C=4, gamma=1e-09 ................................................\n",
      "[CV] .................... C=4, gamma=1e-09, score=0.837, total=   0.7s\n",
      "[CV] C=4, gamma=1e-09 ................................................\n",
      "[CV] .................... C=4, gamma=1e-09, score=0.861, total=   0.8s\n",
      "[CV] C=4, gamma=1e-09 ................................................\n",
      "[CV] .................... C=4, gamma=1e-09, score=0.869, total=   0.8s\n",
      "[CV] C=4, gamma=1e-08 ................................................\n",
      "[CV] .................... C=4, gamma=1e-08, score=0.847, total=   0.7s\n",
      "[CV] C=4, gamma=1e-08 ................................................\n",
      "[CV] .................... C=4, gamma=1e-08, score=0.861, total=   0.8s\n",
      "[CV] C=4, gamma=1e-08 ................................................\n",
      "[CV] .................... C=4, gamma=1e-08, score=0.837, total=   0.7s\n",
      "[CV] C=4, gamma=1e-08 ................................................\n",
      "[CV] .................... C=4, gamma=1e-08, score=0.861, total=   0.7s\n",
      "[CV] C=4, gamma=1e-08 ................................................\n",
      "[CV] .................... C=4, gamma=1e-08, score=0.869, total=   0.8s\n",
      "[CV] C=4, gamma=1e-07 ................................................\n",
      "[CV] .................... C=4, gamma=1e-07, score=0.847, total=   0.8s\n",
      "[CV] C=4, gamma=1e-07 ................................................\n",
      "[CV] .................... C=4, gamma=1e-07, score=0.861, total=   0.8s\n",
      "[CV] C=4, gamma=1e-07 ................................................\n",
      "[CV] .................... C=4, gamma=1e-07, score=0.837, total=   0.7s\n",
      "[CV] C=4, gamma=1e-07 ................................................\n",
      "[CV] .................... C=4, gamma=1e-07, score=0.861, total=   0.8s\n",
      "[CV] C=4, gamma=1e-07 ................................................\n",
      "[CV] .................... C=4, gamma=1e-07, score=0.869, total=   0.7s\n",
      "[CV] C=5, gamma=1e-09 ................................................\n",
      "[CV] .................... C=5, gamma=1e-09, score=0.845, total=   0.8s\n",
      "[CV] C=5, gamma=1e-09 ................................................\n",
      "[CV] .................... C=5, gamma=1e-09, score=0.859, total=   0.9s\n",
      "[CV] C=5, gamma=1e-09 ................................................\n",
      "[CV] .................... C=5, gamma=1e-09, score=0.835, total=   0.8s\n",
      "[CV] C=5, gamma=1e-09 ................................................\n",
      "[CV] .................... C=5, gamma=1e-09, score=0.861, total=   0.9s\n",
      "[CV] C=5, gamma=1e-09 ................................................\n",
      "[CV] .................... C=5, gamma=1e-09, score=0.869, total=   0.9s\n",
      "[CV] C=5, gamma=1e-08 ................................................\n",
      "[CV] .................... C=5, gamma=1e-08, score=0.845, total=   0.9s\n",
      "[CV] C=5, gamma=1e-08 ................................................\n",
      "[CV] .................... C=5, gamma=1e-08, score=0.859, total=   0.9s\n",
      "[CV] C=5, gamma=1e-08 ................................................\n",
      "[CV] .................... C=5, gamma=1e-08, score=0.835, total=   0.8s\n",
      "[CV] C=5, gamma=1e-08 ................................................\n",
      "[CV] .................... C=5, gamma=1e-08, score=0.861, total=   0.9s\n",
      "[CV] C=5, gamma=1e-08 ................................................\n",
      "[CV] .................... C=5, gamma=1e-08, score=0.869, total=   0.8s\n",
      "[CV] C=5, gamma=1e-07 ................................................\n",
      "[CV] .................... C=5, gamma=1e-07, score=0.845, total=   0.8s\n",
      "[CV] C=5, gamma=1e-07 ................................................\n",
      "[CV] .................... C=5, gamma=1e-07, score=0.859, total=   0.9s\n",
      "[CV] C=5, gamma=1e-07 ................................................\n",
      "[CV] .................... C=5, gamma=1e-07, score=0.835, total=   0.8s\n",
      "[CV] C=5, gamma=1e-07 ................................................\n",
      "[CV] .................... C=5, gamma=1e-07, score=0.861, total=   0.9s\n",
      "[CV] C=5, gamma=1e-07 ................................................\n",
      "[CV] .................... C=5, gamma=1e-07, score=0.869, total=   0.9s\n",
      "[Parallel(n_jobs=1)]: Done  45 out of  45 | elapsed:   33.4s finished\n"
     ]
    },
    {
     "output_type": "execute_result",
     "data": {
      "text/plain": [
       "GridSearchCV(estimator=SVC(kernel='linear', probability=True),\n",
       "             param_grid={'C': [3, 4, 5], 'gamma': [1e-09, 1e-08, 1e-07]},\n",
       "             verbose=3)"
      ]
     },
     "metadata": {},
     "execution_count": 26
    }
   ],
   "source": [
    "# Fit the model using the grid search estimator. \n",
    "# This will take the SVC model and try each combination of parameters\n",
    "grid.fit(X_train_scaled, y_train)"
   ]
  },
  {
   "cell_type": "code",
   "execution_count": 27,
   "metadata": {},
   "outputs": [
    {
     "output_type": "stream",
     "name": "stdout",
     "text": [
      "{'C': 3, 'gamma': 1e-09}\n"
     ]
    }
   ],
   "source": [
    "# List the best parameters for this dataset\n",
    "print(grid.best_params_)"
   ]
  },
  {
   "cell_type": "code",
   "execution_count": 28,
   "metadata": {},
   "outputs": [],
   "source": [
    "# Make predictions with the hypertuned model\n",
    "predictions = grid.predict(X_test_scaled)"
   ]
  },
  {
   "cell_type": "code",
   "execution_count": 29,
   "metadata": {},
   "outputs": [
    {
     "output_type": "stream",
     "name": "stdout",
     "text": [
      "Test Acc: 0.863\n"
     ]
    }
   ],
   "source": [
    "print('Test Acc: %.3f' % grid.score(X_test_scaled, y_test))"
   ]
  },
  {
   "cell_type": "code",
   "execution_count": 30,
   "metadata": {},
   "outputs": [
    {
     "output_type": "stream",
     "name": "stdout",
     "text": [
      "              precision    recall  f1-score   support\n\n      Center       0.82      0.77      0.79       222\n     Defense       0.95      0.95      0.95       290\n      Winger       0.81      0.85      0.83       327\n\n    accuracy                           0.86       839\n   macro avg       0.86      0.86      0.86       839\nweighted avg       0.86      0.86      0.86       839\n\n"
     ]
    }
   ],
   "source": [
    "# Calculate classification report\n",
    "from sklearn.metrics import classification_report\n",
    "print(classification_report(y_test, predictions,\n",
    "                            target_names=[\"Center\", \"Defense\", \"Winger\"]))"
   ]
  },
  {
   "source": [
    "## Save the Model"
   ],
   "cell_type": "markdown",
   "metadata": {}
  },
  {
   "cell_type": "code",
   "execution_count": 45,
   "metadata": {},
   "outputs": [
    {
     "output_type": "execute_result",
     "data": {
      "text/plain": [
       "['position_svm_model.pkl']"
      ]
     },
     "metadata": {},
     "execution_count": 45
    }
   ],
   "source": [
    "# Save model\n",
    "joblib.dump(grid, \"position_svm_model.pkl\")"
   ]
  },
  {
   "cell_type": "code",
   "execution_count": null,
   "metadata": {},
   "outputs": [],
   "source": []
  }
 ]
}